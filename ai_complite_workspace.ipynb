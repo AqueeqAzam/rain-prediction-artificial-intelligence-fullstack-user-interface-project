{
  "nbformat": 4,
  "nbformat_minor": 0,
  "metadata": {
    "colab": {
      "provenance": [],
      "authorship_tag": "ABX9TyMiQp5kT4hWB2VGFgV/NRjX",
      "include_colab_link": true
    },
    "kernelspec": {
      "name": "python3",
      "display_name": "Python 3"
    },
    "language_info": {
      "name": "python"
    }
  },
  "cells": [
    {
      "cell_type": "markdown",
      "metadata": {
        "id": "view-in-github",
        "colab_type": "text"
      },
      "source": [
        "<a href=\"https://colab.research.google.com/github/AqueeqAzam/rain-prediction-artificial-intelligence-fullstack-user-interface-project/blob/master/ai_complite_workspace.ipynb\" target=\"_parent\"><img src=\"https://colab.research.google.com/assets/colab-badge.svg\" alt=\"Open In Colab\"/></a>"
      ]
    },
    {
      "cell_type": "markdown",
      "source": [
        "# `Raining Prediction Complite Project using ml, rs, es, nlp, flask, html, tailwinnd css, sqlite3`"
      ],
      "metadata": {
        "id": "vY0CvoE-eyY1"
      }
    },
    {
      "cell_type": "markdown",
      "source": [
        "`*Creating csv file*`"
      ],
      "metadata": {
        "id": "gkhXH7BMfWpC"
      }
    },
    {
      "cell_type": "code",
      "source": [
        "import pandas as pd\n",
        "import numpy as np\n",
        "\n",
        "# Generate data\n",
        "data = {\n",
        "    'temperature': np.round(np.random.uniform(15, 35, 10000), 1),\n",
        "    'humidity': np.round(np.random.uniform(30, 90, 10000), 1),\n",
        "    'wind_speed': np.round(np.random.uniform(5, 30, 10000), 1),\n",
        "    'precipitation': np.round(np.random.uniform(0, 10, 10000), 1),\n",
        "    'atmospheric_pressure': np.round(np.random.uniform(1000, 1020, 10000), 1),\n",
        "    'rain': np.random.choice([0, 1], 10000, p=[0.7, 0.3])  # 30% chance of rain\n",
        "}\n",
        "\n",
        "# Create DataFrame\n",
        "df = pd.DataFrame(data)\n",
        "\n",
        "# Save to CSV\n",
        "df.to_csv('weather_data.csv', index=False)"
      ],
      "metadata": {
        "id": "LaFGkv85ZDfC"
      },
      "execution_count": null,
      "outputs": []
    },
    {
      "cell_type": "markdown",
      "source": [
        "*`Data Processing and training`*"
      ],
      "metadata": {
        "id": "n_3eXDwCfOaS"
      }
    },
    {
      "cell_type": "code",
      "execution_count": null,
      "metadata": {
        "colab": {
          "base_uri": "https://localhost:8080/"
        },
        "id": "RLCepmxTYZpY",
        "outputId": "0d38b48f-11aa-4a89-d90c-80655ff54765"
      },
      "outputs": [
        {
          "output_type": "stream",
          "name": "stdout",
          "text": [
            "temperature             0\n",
            "humidity                0\n",
            "wind_speed              0\n",
            "precipitation           0\n",
            "atmospheric_pressure    0\n",
            "rain                    0\n",
            "dtype: int64\n",
            "Accuracy: 68.30%\n",
            "Classification Report:\n",
            "               precision    recall  f1-score   support\n",
            "\n",
            "           0       0.70      0.94      0.81      2105\n",
            "           1       0.34      0.07      0.11       895\n",
            "\n",
            "    accuracy                           0.68      3000\n",
            "   macro avg       0.52      0.51      0.46      3000\n",
            "weighted avg       0.60      0.68      0.60      3000\n",
            "\n",
            "Model and scaler saved to 'rain_prediction_model.pkl'\n"
          ]
        }
      ],
      "source": [
        "import pandas as pd\n",
        "import numpy as np\n",
        "from sklearn.model_selection import train_test_split\n",
        "from sklearn.ensemble import RandomForestClassifier\n",
        "from sklearn.preprocessing import StandardScaler\n",
        "from sklearn.metrics import classification_report, accuracy_score\n",
        "import pickle\n",
        "\n",
        "# Load the dataset\n",
        "df = pd.read_csv(\"https://raw.githubusercontent.com/AqueeqAzam/data-science-and-machine-learning-datasets/main/environment.csv\")\n",
        "\n",
        "# Data Exploration and Cleaning\n",
        "# Check for missing values\n",
        "print(df.isnull().sum())\n",
        "\n",
        "# Fill or drop missing values if any\n",
        "# Example: df.fillna(method='ffill', inplace=True)\n",
        "\n",
        "# Data Preprocessing\n",
        "# Features and target variable\n",
        "X = df.drop('rain', axis=1)\n",
        "y = df['rain']\n",
        "\n",
        "# Split the data into training and testing sets\n",
        "X_train, X_test, y_train, y_test = train_test_split(X, y, test_size=0.3, random_state=42)\n",
        "\n",
        "# Initialize the scaler and model\n",
        "scaler = StandardScaler()\n",
        "\n",
        "# Fit the scaler on the training data and transform it\n",
        "X_train_scaled = scaler.fit_transform(X_train)\n",
        "X_test_scaled = scaler.transform(X_test)\n",
        "\n",
        "# Train the model\n",
        "model = RandomForestClassifier(n_estimators=100, random_state=42)\n",
        "model.fit(X_train_scaled, y_train)\n",
        "\n",
        "# Make predictions and evaluate the model\n",
        "y_pred = model.predict(X_test_scaled)\n",
        "accuracy =  accuracy_score(y_test, y_pred)\n",
        "print(f'Accuracy: {accuracy * 100:.2f}%')\n",
        "print(\"Classification Report:\\n\", classification_report(y_test, y_pred))\n",
        "\n",
        "# Save the model and scaler to a pickle file\n",
        "with open('rain_prediction_model.pkl', 'wb') as file:\n",
        "    pickle.dump({'model': model, 'scaler': scaler}, file)\n",
        "\n",
        "print(\"Model and scaler saved to 'rain_prediction_model.pkl'\")"
      ]
    }
  ]
}